{
  "cells": [
    {
      "cell_type": "markdown",
      "metadata": {
        "id": "view-in-github",
        "colab_type": "text"
      },
      "source": [
        "<a href=\"https://colab.research.google.com/github/DandaraGomez/DandaraGomez/blob/main/jogotigre.ipynb\" target=\"_parent\"><img src=\"https://colab.research.google.com/assets/colab-badge.svg\" alt=\"Open In Colab\"/></a>"
      ]
    },
    {
      "cell_type": "code",
      "execution_count": null,
      "metadata": {
        "id": "G__A1h1nNyJ8"
      },
      "outputs": [],
      "source": [
        "!pip install keyboard\n"
      ]
    },
    {
      "cell_type": "code",
      "execution_count": null,
      "metadata": {
        "id": "TDJ7eUGkaQse"
      },
      "outputs": [],
      "source": [
        "!pip install -q -U google-generativeai\n"
      ]
    },
    {
      "cell_type": "code",
      "execution_count": null,
      "metadata": {
        "colab": {
          "base_uri": "https://localhost:8080/"
        },
        "id": "Ih1_3U1ekOMo",
        "outputId": "c9f1bba8-828d-4dbb-c06e-c107b8c51557"
      },
      "outputs": [
        {
          "name": "stdout",
          "output_type": "stream",
          "text": [
            "Função 'gerar_mensagem_ia' definida.\n"
          ]
        }
      ],
      "source": [
        "def gerar_mensagem_ia(tipo, valor_aposta, resultado_numero):\n",
        "    \"\"\"\n",
        "    Comunica-se com o Gemini para gerar uma mensagem criativa\n",
        "    baseada no resultado do jogo (vitória ou derrota).\n",
        "    \"\"\"\n",
        "    try:\n",
        "        prompt = \"\"\n",
        "        if tipo == 'vitoria':\n",
        "            prompt = (\n",
        "                f\"O jogador venceu com o número {resultado_numero} em um jogo de aposta. Ele apostou R${valor_aposta}. \"\n",
        "                f\"Crie uma frase de celebração espirituosa para o momento da vitória, com no máximo 15 palavras.\"\n",
        "            )\n",
        "        elif tipo == 'derrota':\n",
        "            prompt = (\n",
        "                f\"O jogador perdeu no jogo de aposta. Ele apostou R${valor_aposta} e não acertou. \"\n",
        "                f\"Crie uma frase de encorajamento, com no máximo 15 palavras.\"\n",
        "            )\n",
        "        if prompt:\n",
        "            model = genai.GenerativeModel('gemini-2.5-flash')\n",
        "            response = model.generate_content(prompt)\n",
        "            return response.text.strip()\n",
        "        return \"Mensagem de IA padrão.\"\n",
        "    except Exception as e:\n",
        "        print(f\"\\n[ERRO DA API: {e}]\")\n",
        "        return \"A sorte da IA está se recarregando. Continue tentando!\"\n",
        "print(\"Função 'gerar_mensagem_ia' definida.\")"
      ]
    },
    {
      "cell_type": "code",
      "execution_count": null,
      "metadata": {
        "colab": {
          "base_uri": "https://localhost:8080/"
        },
        "id": "5C9Q-eZMd3hU",
        "outputId": "a655b3bf-0a76-405c-ed6e-4eaa96110081"
      },
      "outputs": [
        {
          "name": "stdout",
          "output_type": "stream",
          "text": [
            "API Gemini configurada com sucesso!\n"
          ]
        }
      ],
      "source": [
        "GOOGLE_API_KEY = userdata.get('GOOGLE_API_KEY')\n",
        "genai.configure(api_key=GOOGLE_API_KEY)\n",
        "print(\"API Gemini configurada com sucesso!\")"
      ]
    },
    {
      "cell_type": "code",
      "execution_count": null,
      "metadata": {
        "colab": {
          "background_save": true
        },
        "id": "0d44575d",
        "outputId": "a83baec8-535d-4b74-9db0-c72c976bebb6"
      },
      "outputs": [
        {
          "name": "stdout",
          "output_type": "stream",
          "text": [
            "Bem-Vindo a SuperBet (Versão IA!)\n",
            "Digite 'p' a qualquer momento para sair do jogo\n",
            "\n",
            "Seu saldo atual é: R$100\n",
            "\n",
            "Girando a Roleta...\n",
            "5\n",
            "O número sorteado foi: 3\n",
            "PARABÉNS! Você ganhou R$300!\n",
            "Guru da Sorte:\"Que golaço do 3! R$60 viraram ouro. É aposta de campeão!\"\n",
            "\n",
            "Seu saldo atual é: R$400\n",
            "\n",
            "Girando a Roleta...\n",
            "5\n",
            "O número sorteado foi: 3\n",
            "PARABÉNS! Você ganhou R$500!\n",
            "Guru da Sorte:\"**É o 3! Eu sabia! Vitória na veia!**\"\n",
            "\n",
            "Seu saldo atual é: R$900\n"
          ]
        }
      ],
      "source": [
        "saldo = 100\n",
        "numeros = [1, 2, 3, 4, 5]\n",
        "repeticoes = 3\n",
        "aposta_minima = 10\n",
        "\n",
        "print(\"Bem-Vindo a SuperBet (Versão IA!)\")\n",
        "print(\"Digite 'p' a qualquer momento para sair do jogo\")\n",
        "\n",
        "try:\n",
        "    while True:\n",
        "        print(f\"\\nSeu saldo atual é: R${saldo}\")\n",
        "        aposta_input = input(f'Quanto você quer apostar? (mínimo de R${aposta_minima}) ou digite \"p\" para sair: ')\n",
        "\n",
        "        if aposta_input.lower() == 'p':\n",
        "            print('\\nJogo encerrado. Volte logo!')\n",
        "            break\n",
        "\n",
        "        try:\n",
        "            aposta = int(aposta_input)\n",
        "            if aposta < aposta_minima:\n",
        "                print(f'Aposta mínima é R${aposta_minima}. Tente novamente.')\n",
        "                continue\n",
        "            if aposta > saldo:\n",
        "                print(f'Você não tem saldo suficiente. Tente novamente.')\n",
        "                continue\n",
        "        except ValueError:\n",
        "            print(\"Entrada inválida. Por favor, digite um número válido ou 'p' para sair.\")\n",
        "            continue\n",
        "\n",
        "        print('\\nGirando a Roleta...')\n",
        "        for _ in range(repeticoes):\n",
        "            for i in numeros:\n",
        "                print(f\"\\r{i}\", end='', flush=True)\n",
        "                time.sleep(0.2)\n",
        "\n",
        "        resultado = random.choice(numeros)\n",
        "        print(f'\\nO número sorteado foi: {resultado}')\n",
        "\n",
        "        if resultado == 3:\n",
        "            ganho = aposta * 5\n",
        "            saldo += ganho\n",
        "\n",
        "            mensagem_ia = gerar_mensagem_ia('vitoria', aposta, resultado)\n",
        "            print(f'PARABÉNS! Você ganhou R${ganho}!')\n",
        "            print(f'Guru da Sorte:\"{mensagem_ia}\"')\n",
        "\n",
        "        else:\n",
        "            saldo -= aposta\n",
        "            mensagem_ia = gerar_mensagem_ia('derrota', aposta, resultado)\n",
        "            print(f'QUE PENA! Você perdeu R${aposta}')\n",
        "            print(f'Guru da Sorte: \"{mensagem_ia}\"')\n",
        "\n",
        "        if saldo <= 0:\n",
        "            print(\"\\nVocê ficou sem saldo! Deposite mais!\")\n",
        "            break\n",
        "\n",
        "except Exception as e:\n",
        "    print(f\"Ocorreu um erro inesperado: {e}\")"
      ]
    }
  ],
  "metadata": {
    "colab": {
      "provenance": [],
      "authorship_tag": "ABX9TyPiP9s9KzdpAISeVumrlyFw",
      "include_colab_link": true
    },
    "kernelspec": {
      "display_name": "Python 3",
      "name": "python3"
    },
    "language_info": {
      "name": "python"
    }
  },
  "nbformat": 4,
  "nbformat_minor": 0
}