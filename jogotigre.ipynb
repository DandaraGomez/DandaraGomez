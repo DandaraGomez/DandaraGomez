{
  "nbformat": 4,
  "nbformat_minor": 0,
  "metadata": {
    "colab": {
      "provenance": [],
      "authorship_tag": "ABX9TyPiP9s9KzdpAISeVumrlyFw",
      "include_colab_link": true
    },
    "kernelspec": {
      "name": "python3",
      "display_name": "Python 3"
    },
    "language_info": {
      "name": "python"
    }
  },
  "cells": [
    {
      "cell_type": "markdown",
      "metadata": {
        "id": "view-in-github",
        "colab_type": "text"
      },
      "source": [
        "<a href=\"https://colab.research.google.com/github/DandaraGomez/DandaraGomez/blob/main/jogotigre.ipynb\" target=\"_parent\"><img src=\"https://colab.research.google.com/assets/colab-badge.svg\" alt=\"Open In Colab\"/></a>"
      ]
    },
    {
      "cell_type": "code",
      "source": [
        "!pip install keyboard\n"
      ],
      "metadata": {
        "id": "G__A1h1nNyJ8"
      },
      "execution_count": null,
      "outputs": []
    },
    {
      "cell_type": "code",
      "source": [
        "!pip install -q -U google-generativeai\n"
      ],
      "metadata": {
        "id": "TDJ7eUGkaQse"
      },
      "execution_count": 78,
      "outputs": []
    },
    {
      "cell_type": "code",
      "source": [
        "def gerar_mensagem_ia(tipo, valor_aposta, resultado_numero):\n",
        "    \"\"\"\n",
        "    Comunica-se com o Gemini para gerar uma mensagem criativa\n",
        "    baseada no resultado do jogo (vitória ou derrota).\n",
        "    \"\"\"\n",
        "    try:\n",
        "        prompt = \"\"\n",
        "        if tipo == 'vitoria':\n",
        "            prompt = (\n",
        "                f\"O jogador venceu com o número {resultado_numero} em um jogo de aposta. Ele apostou R${valor_aposta}. \"\n",
        "                f\"Crie uma frase de celebração espirituosa para o momento da vitória, com no máximo 15 palavras.\"\n",
        "            )\n",
        "        elif tipo == 'derrota':\n",
        "            prompt = (\n",
        "                f\"O jogador perdeu no jogo de aposta. Ele apostou R${valor_aposta} e não acertou. \"\n",
        "                f\"Crie uma frase de encorajamento, com no máximo 15 palavras.\"\n",
        "            )\n",
        "        if prompt:\n",
        "            model = genai.GenerativeModel('gemini-2.5-flash')\n",
        "            response = model.generate_content(prompt)\n",
        "            return response.text.strip()\n",
        "        return \"Mensagem de IA padrão.\"\n",
        "    except Exception as e:\n",
        "        print(f\"\\n[ERRO DA API: {e}]\")\n",
        "        return \"A sorte da IA está se recarregando. Continue tentando!\"\n",
        "print(\"Função 'gerar_mensagem_ia' definida.\")"
      ],
      "metadata": {
        "colab": {
          "base_uri": "https://localhost:8080/"
        },
        "id": "Ih1_3U1ekOMo",
        "outputId": "c9f1bba8-828d-4dbb-c06e-c107b8c51557"
      },
      "execution_count": 79,
      "outputs": [
        {
          "output_type": "stream",
          "name": "stdout",
          "text": [
            "Função 'gerar_mensagem_ia' definida.\n"
          ]
        }
      ]
    },
    {
      "cell_type": "code",
      "source": [
        "GOOGLE_API_KEY = userdata.get('GOOGLE_API_KEY')\n",
        "genai.configure(api_key=GOOGLE_API_KEY)\n",
        "print(\"API Gemini configurada com sucesso!\")"
      ],
      "metadata": {
        "colab": {
          "base_uri": "https://localhost:8080/"
        },
        "id": "5C9Q-eZMd3hU",
        "outputId": "a655b3bf-0a76-405c-ed6e-4eaa96110081"
      },
      "execution_count": 80,
      "outputs": [
        {
          "output_type": "stream",
          "name": "stdout",
          "text": [
            "API Gemini configurada com sucesso!\n"
          ]
        }
      ]
    },
    {
      "cell_type": "code",
      "metadata": {
        "id": "0d44575d"
      },
      "source": [
        "saldo = 100\n",
        "numeros = [1, 2, 3, 4, 5]\n",
        "repeticoes = 3\n",
        "aposta_minima = 10\n",
        "\n",
        "print(\"Bem-Vindo a SuperBet (Versão IA!)\")\n",
        "print(\"Digite 'p' a qualquer momento para sair do jogo\")\n",
        "\n",
        "try:\n",
        "    while True:\n",
        "        print(f\"\\nSeu saldo atual é: R${saldo}\")\n",
        "        aposta_input = input(f'Quanto você quer apostar? (mínimo de R${aposta_minima}) ou digite \"p\" para sair: ')\n",
        "\n",
        "        if aposta_input.lower() == 'p':\n",
        "            print('\\nJogo encerrado. Volte logo!')\n",
        "            break\n",
        "\n",
        "        try:\n",
        "            aposta = int(aposta_input)\n",
        "            if aposta < aposta_minima:\n",
        "                print(f'Aposta mínima é R${aposta_minima}. Tente novamente.')\n",
        "                continue\n",
        "            if aposta > saldo:\n",
        "                print(f'Você não tem saldo suficiente. Tente novamente.')\n",
        "                continue\n",
        "        except ValueError:\n",
        "            print(\"Entrada inválida. Por favor, digite um número válido ou 'p' para sair.\")\n",
        "            continue\n",
        "\n",
        "        print('\\nGirando a Roleta...')\n",
        "        for _ in range(repeticoes):\n",
        "            for i in numeros:\n",
        "                print(f\"\\r{i}\", end='', flush=True)\n",
        "                time.sleep(0.2)\n",
        "\n",
        "        resultado = random.choice(numeros)\n",
        "        print(f'\\nO número sorteado foi: {resultado}')\n",
        "\n",
        "        if resultado == 3:\n",
        "            ganho = aposta * 5\n",
        "            saldo += ganho\n",
        "\n",
        "            mensagem_ia = gerar_mensagem_ia('vitoria', aposta, resultado)\n",
        "            print(f'PARABÉNS! Você ganhou R${ganho}!')\n",
        "            print(f'Guru da Sorte:\"{mensagem_ia}\"')\n",
        "\n",
        "        else:\n",
        "            saldo -= aposta\n",
        "            mensagem_ia = gerar_mensagem_ia('derrota', aposta, resultado)\n",
        "            print(f'QUE PENA! Você perdeu R${aposta}')\n",
        "            print(f'Guru da Sorte: \"{mensagem_ia}\"')\n",
        "\n",
        "        if saldo <= 0:\n",
        "            print(\"\\nVocê ficou sem saldo! Deposite mais!\")\n",
        "            break\n",
        "\n",
        "except Exception as e:\n",
        "    print(f\"Ocorreu um erro inesperado: {e}\")"
      ],
      "execution_count": null,
      "outputs": []
    }
  ]
}